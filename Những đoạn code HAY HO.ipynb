{
 "cells": [
  {
   "cell_type": "code",
   "execution_count": 30,
   "id": "00475a6b-6112-4936-8214-a70b918109ac",
   "metadata": {},
   "outputs": [
    {
     "name": "stdout",
     "output_type": "stream",
     "text": [
      "['cái', 'lồng', 'zồi']\n",
      "None\n"
     ]
    }
   ],
   "source": [
    "#Đoạn code tách chữ tiếng việt\n",
    "\n",
    "import re\n",
    "\n",
    "def tachchu(n) :\n",
    "    string=re.findall(r'(?i)\\b[a-záàảãạăắằẳẵặâấầẩẫậéèẻẽẹêếềểễệóòỏõọôốồổỗộơớờởỡợíìỉĩịúùủũụưứừửữựýỳỷỹỵđ]+\\b',n) \n",
    "        # Tách chữ unicode sử dụng thư viện\n",
    "    print(string)\n",
    "\n",
    "\n",
    "print(tachchu('cái lồng zồi'))      \n"
   ]
  },
  {
   "cell_type": "code",
   "execution_count": 29,
   "id": "edb04e71-0c17-4bf9-a7ea-dc0904f17456",
   "metadata": {},
   "outputs": [
    {
     "name": "stdout",
     "output_type": "stream",
     "text": [
      "[1, -5, 3, -9, 25, 10, -7, 11]\n",
      "[1, 3, -5, -7, -9, 10, 11, 25]\n"
     ]
    }
   ],
   "source": [
    "#Sắp xếp theo KEY ( ở đây sử dụng abs = giá trị tuyệt đối)\n",
    "num_list = [1,-5,3,-9,25,10,-7,11]\n",
    "new_list = sorted(num_list, key = abs)\n",
    "print(num_list)\n",
    "print(new_list) \n"
   ]
  },
  {
   "cell_type": "code",
   "execution_count": 45,
   "id": "7c8382c5-7e4e-466a-b4d7-a5ff2b8b3942",
   "metadata": {},
   "outputs": [
    {
     "name": "stdout",
     "output_type": "stream",
     "text": [
      "Counter({'yeu': 2, 'em': 2, 'anh': 1, 'nhieu': 1})\n"
     ]
    }
   ],
   "source": [
    "#đếm số phần tử trong list\n",
    "import collections\n",
    "from operator import itemgetter\n",
    "a=['anh','yeu','em','yeu','em','nhieu']\n",
    "c=collections.Counter(a)\n",
    "print(c)"
   ]
  },
  {
   "cell_type": "code",
   "execution_count": 46,
   "id": "e86b196b-9901-4f8e-a174-aba5963743d1",
   "metadata": {},
   "outputs": [
    {
     "name": "stdout",
     "output_type": "stream",
     "text": [
      "12345\n"
     ]
    }
   ],
   "source": [
    "#Create a number from list\n",
    "lst=[1,2,3,4,5]\n",
    "lst=(str(x) for x in lst)\n",
    "a=\"\".join(lst)\n",
    "print(a)"
   ]
  },
  {
   "cell_type": "code",
   "execution_count": null,
   "id": "a359b37d-a3bf-4061-9ae0-d2d4bd2c51a7",
   "metadata": {},
   "outputs": [],
   "source": [
    "#Convert ảnh sang Threshold sử dụng Adaptive\n",
    "img_binary = cv2.adaptiveThreshold(img_gray,maxValue=255,\n",
    "                                   adaptiveMethod=cv2.ADAPTIVE_THRESH_MEAN_C,\n",
    "                                   thresholdType=cv2.THRESH_BINARY,\n",
    "                                   blockSize=15,C=8)"
   ]
  }
 ],
 "metadata": {
  "kernelspec": {
   "display_name": "Python 3",
   "language": "python",
   "name": "python3"
  },
  "language_info": {
   "codemirror_mode": {
    "name": "ipython",
    "version": 3
   },
   "file_extension": ".py",
   "mimetype": "text/x-python",
   "name": "python",
   "nbconvert_exporter": "python",
   "pygments_lexer": "ipython3",
   "version": "3.8.8"
  }
 },
 "nbformat": 4,
 "nbformat_minor": 5
}
